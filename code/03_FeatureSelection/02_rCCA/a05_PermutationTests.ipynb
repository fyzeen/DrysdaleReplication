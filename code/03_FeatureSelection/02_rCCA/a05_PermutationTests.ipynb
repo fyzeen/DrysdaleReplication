{
 "cells": [
  {
   "cell_type": "code",
   "execution_count": 1,
   "id": "9b02afcc",
   "metadata": {},
   "outputs": [],
   "source": [
    "import pandas as pd\n",
    "import numpy as np\n",
    "import matplotlib.pyplot as plt"
   ]
  },
  {
   "cell_type": "code",
   "execution_count": 2,
   "id": "926c16e7",
   "metadata": {},
   "outputs": [
    {
     "data": {
      "text/html": [
       "<div>\n",
       "<style scoped>\n",
       "    .dataframe tbody tr th:only-of-type {\n",
       "        vertical-align: middle;\n",
       "    }\n",
       "\n",
       "    .dataframe tbody tr th {\n",
       "        vertical-align: top;\n",
       "    }\n",
       "\n",
       "    .dataframe thead th {\n",
       "        text-align: right;\n",
       "    }\n",
       "</style>\n",
       "<table border=\"1\" class=\"dataframe\">\n",
       "  <thead>\n",
       "    <tr style=\"text-align: right;\">\n",
       "      <th></th>\n",
       "      <th>all_CCA_cc1</th>\n",
       "      <th>all_rCCA_cc1</th>\n",
       "      <th>training_CCA_cc1</th>\n",
       "      <th>training_rCCA_cc1</th>\n",
       "      <th>test_CCA_cc1</th>\n",
       "      <th>test_rCCA_cc1</th>\n",
       "      <th>all_CCA_cc2</th>\n",
       "      <th>all_rCCA_cc2</th>\n",
       "      <th>training_CCA_cc2</th>\n",
       "      <th>training_rCCA_cc2</th>\n",
       "      <th>test_CCA_ccs</th>\n",
       "      <th>test_rCCA_cc2</th>\n",
       "    </tr>\n",
       "  </thead>\n",
       "  <tbody>\n",
       "    <tr>\n",
       "      <th>0</th>\n",
       "      <td>0.36824</td>\n",
       "      <td>0.35556</td>\n",
       "      <td>0.38584</td>\n",
       "      <td>0.14332</td>\n",
       "      <td>0.42332</td>\n",
       "      <td>0.27830</td>\n",
       "      <td>0.35305</td>\n",
       "      <td>0.34385</td>\n",
       "      <td>0.37392</td>\n",
       "      <td>0.21806</td>\n",
       "      <td>0.30690</td>\n",
       "      <td>0.049243</td>\n",
       "    </tr>\n",
       "    <tr>\n",
       "      <th>1</th>\n",
       "      <td>0.36967</td>\n",
       "      <td>0.27091</td>\n",
       "      <td>0.35832</td>\n",
       "      <td>0.35832</td>\n",
       "      <td>0.46297</td>\n",
       "      <td>0.23178</td>\n",
       "      <td>0.35121</td>\n",
       "      <td>0.25152</td>\n",
       "      <td>0.35294</td>\n",
       "      <td>0.35294</td>\n",
       "      <td>0.41565</td>\n",
       "      <td>0.058827</td>\n",
       "    </tr>\n",
       "    <tr>\n",
       "      <th>2</th>\n",
       "      <td>0.38852</td>\n",
       "      <td>0.31441</td>\n",
       "      <td>0.41714</td>\n",
       "      <td>0.35033</td>\n",
       "      <td>0.46984</td>\n",
       "      <td>0.22202</td>\n",
       "      <td>0.34977</td>\n",
       "      <td>0.23757</td>\n",
       "      <td>0.36080</td>\n",
       "      <td>0.23770</td>\n",
       "      <td>0.32916</td>\n",
       "      <td>0.136270</td>\n",
       "    </tr>\n",
       "    <tr>\n",
       "      <th>3</th>\n",
       "      <td>0.36431</td>\n",
       "      <td>0.35006</td>\n",
       "      <td>0.40279</td>\n",
       "      <td>0.20083</td>\n",
       "      <td>0.34139</td>\n",
       "      <td>0.19827</td>\n",
       "      <td>0.34587</td>\n",
       "      <td>0.32942</td>\n",
       "      <td>0.36805</td>\n",
       "      <td>0.21060</td>\n",
       "      <td>0.32763</td>\n",
       "      <td>0.083743</td>\n",
       "    </tr>\n",
       "    <tr>\n",
       "      <th>4</th>\n",
       "      <td>0.38454</td>\n",
       "      <td>0.37188</td>\n",
       "      <td>0.38427</td>\n",
       "      <td>0.15875</td>\n",
       "      <td>0.45690</td>\n",
       "      <td>0.17845</td>\n",
       "      <td>0.35703</td>\n",
       "      <td>0.34062</td>\n",
       "      <td>0.36406</td>\n",
       "      <td>0.22255</td>\n",
       "      <td>0.34473</td>\n",
       "      <td>0.184810</td>\n",
       "    </tr>\n",
       "    <tr>\n",
       "      <th>...</th>\n",
       "      <td>...</td>\n",
       "      <td>...</td>\n",
       "      <td>...</td>\n",
       "      <td>...</td>\n",
       "      <td>...</td>\n",
       "      <td>...</td>\n",
       "      <td>...</td>\n",
       "      <td>...</td>\n",
       "      <td>...</td>\n",
       "      <td>...</td>\n",
       "      <td>...</td>\n",
       "      <td>...</td>\n",
       "    </tr>\n",
       "    <tr>\n",
       "      <th>433</th>\n",
       "      <td>0.38142</td>\n",
       "      <td>0.35961</td>\n",
       "      <td>0.40621</td>\n",
       "      <td>0.38379</td>\n",
       "      <td>0.38245</td>\n",
       "      <td>0.24712</td>\n",
       "      <td>0.35725</td>\n",
       "      <td>0.34204</td>\n",
       "      <td>0.38277</td>\n",
       "      <td>0.36790</td>\n",
       "      <td>0.29643</td>\n",
       "      <td>0.180320</td>\n",
       "    </tr>\n",
       "    <tr>\n",
       "      <th>434</th>\n",
       "      <td>0.37339</td>\n",
       "      <td>0.35946</td>\n",
       "      <td>0.39427</td>\n",
       "      <td>0.13988</td>\n",
       "      <td>0.36972</td>\n",
       "      <td>0.18150</td>\n",
       "      <td>0.35925</td>\n",
       "      <td>0.34705</td>\n",
       "      <td>0.36420</td>\n",
       "      <td>0.15483</td>\n",
       "      <td>0.38050</td>\n",
       "      <td>0.116050</td>\n",
       "    </tr>\n",
       "    <tr>\n",
       "      <th>435</th>\n",
       "      <td>0.34834</td>\n",
       "      <td>0.15711</td>\n",
       "      <td>0.37193</td>\n",
       "      <td>0.33355</td>\n",
       "      <td>0.29697</td>\n",
       "      <td>0.26283</td>\n",
       "      <td>0.33570</td>\n",
       "      <td>0.16807</td>\n",
       "      <td>0.36304</td>\n",
       "      <td>0.27851</td>\n",
       "      <td>0.29670</td>\n",
       "      <td>0.166460</td>\n",
       "    </tr>\n",
       "    <tr>\n",
       "      <th>436</th>\n",
       "      <td>0.35559</td>\n",
       "      <td>0.33567</td>\n",
       "      <td>0.35573</td>\n",
       "      <td>0.22394</td>\n",
       "      <td>0.47768</td>\n",
       "      <td>0.15024</td>\n",
       "      <td>0.33666</td>\n",
       "      <td>0.30848</td>\n",
       "      <td>0.34271</td>\n",
       "      <td>0.27589</td>\n",
       "      <td>0.39869</td>\n",
       "      <td>-0.103960</td>\n",
       "    </tr>\n",
       "    <tr>\n",
       "      <th>437</th>\n",
       "      <td>0.40484</td>\n",
       "      <td>0.40431</td>\n",
       "      <td>0.42333</td>\n",
       "      <td>0.36095</td>\n",
       "      <td>0.44956</td>\n",
       "      <td>0.27920</td>\n",
       "      <td>0.35860</td>\n",
       "      <td>0.35775</td>\n",
       "      <td>0.38010</td>\n",
       "      <td>0.29872</td>\n",
       "      <td>0.25672</td>\n",
       "      <td>0.074517</td>\n",
       "    </tr>\n",
       "  </tbody>\n",
       "</table>\n",
       "<p>438 rows × 12 columns</p>\n",
       "</div>"
      ],
      "text/plain": [
       "     all_CCA_cc1   all_rCCA_cc1   training_CCA_cc1   training_rCCA_cc1  \\\n",
       "0        0.36824        0.35556            0.38584             0.14332   \n",
       "1        0.36967        0.27091            0.35832             0.35832   \n",
       "2        0.38852        0.31441            0.41714             0.35033   \n",
       "3        0.36431        0.35006            0.40279             0.20083   \n",
       "4        0.38454        0.37188            0.38427             0.15875   \n",
       "..           ...            ...                ...                 ...   \n",
       "433      0.38142        0.35961            0.40621             0.38379   \n",
       "434      0.37339        0.35946            0.39427             0.13988   \n",
       "435      0.34834        0.15711            0.37193             0.33355   \n",
       "436      0.35559        0.33567            0.35573             0.22394   \n",
       "437      0.40484        0.40431            0.42333             0.36095   \n",
       "\n",
       "      test_CCA_cc1   test_rCCA_cc1   all_CCA_cc2   all_rCCA_cc2  \\\n",
       "0          0.42332         0.27830       0.35305        0.34385   \n",
       "1          0.46297         0.23178       0.35121        0.25152   \n",
       "2          0.46984         0.22202       0.34977        0.23757   \n",
       "3          0.34139         0.19827       0.34587        0.32942   \n",
       "4          0.45690         0.17845       0.35703        0.34062   \n",
       "..             ...             ...           ...            ...   \n",
       "433        0.38245         0.24712       0.35725        0.34204   \n",
       "434        0.36972         0.18150       0.35925        0.34705   \n",
       "435        0.29697         0.26283       0.33570        0.16807   \n",
       "436        0.47768         0.15024       0.33666        0.30848   \n",
       "437        0.44956         0.27920       0.35860        0.35775   \n",
       "\n",
       "      training_CCA_cc2   training_rCCA_cc2   test_CCA_ccs   test_rCCA_cc2  \n",
       "0              0.37392             0.21806        0.30690        0.049243  \n",
       "1              0.35294             0.35294        0.41565        0.058827  \n",
       "2              0.36080             0.23770        0.32916        0.136270  \n",
       "3              0.36805             0.21060        0.32763        0.083743  \n",
       "4              0.36406             0.22255        0.34473        0.184810  \n",
       "..                 ...                 ...            ...             ...  \n",
       "433            0.38277             0.36790        0.29643        0.180320  \n",
       "434            0.36420             0.15483        0.38050        0.116050  \n",
       "435            0.36304             0.27851        0.29670        0.166460  \n",
       "436            0.34271             0.27589        0.39869       -0.103960  \n",
       "437            0.38010             0.29872        0.25672        0.074517  \n",
       "\n",
       "[438 rows x 12 columns]"
      ]
     },
     "execution_count": 2,
     "metadata": {},
     "output_type": "execute_result"
    }
   ],
   "source": [
    "permutation_tests_path = \"/Users/fyzeen/FyzeenLocal/GitHub/DrysdaleReplication/code/03_FeatureSelection/02_rCCA/permutation_tests.csv\"\n",
    "permutation_tests = pd.read_csv(permutation_tests_path)\n",
    "permutation_tests"
   ]
  },
  {
   "cell_type": "code",
   "execution_count": 3,
   "id": "f73cbf1f",
   "metadata": {},
   "outputs": [
    {
     "data": {
      "text/plain": [
       "(array([  0.,   0.,   0.,   0.,   0.,   0.,   0.,   0.,   0.,   0.,   0.,\n",
       "          0.,   0.,   0.,   0.,   0.,   0.,   0.,   0.,   0.,   0.,   0.,\n",
       "          0.,   0.,   0.,   0.,   0.,   0.,   0.,   0.,   1.,   2.,   7.,\n",
       "         37.,  93., 161., 105.,  28.,   4.,   0.,   0.,   0.,   0.,   0.,\n",
       "          0.,   0.,   0.,   0.,   0.]),\n",
       " array([0.  , 0.01, 0.02, 0.03, 0.04, 0.05, 0.06, 0.07, 0.08, 0.09, 0.1 ,\n",
       "        0.11, 0.12, 0.13, 0.14, 0.15, 0.16, 0.17, 0.18, 0.19, 0.2 , 0.21,\n",
       "        0.22, 0.23, 0.24, 0.25, 0.26, 0.27, 0.28, 0.29, 0.3 , 0.31, 0.32,\n",
       "        0.33, 0.34, 0.35, 0.36, 0.37, 0.38, 0.39, 0.4 , 0.41, 0.42, 0.43,\n",
       "        0.44, 0.45, 0.46, 0.47, 0.48, 0.49]),\n",
       " <BarContainer object of 49 artists>)"
      ]
     },
     "execution_count": 3,
     "metadata": {},
     "output_type": "execute_result"
    },
    {
     "data": {
      "image/png": "[encoded data removed]",
      "text/plain": [
       "<Figure size 640x480 with 1 Axes>"
      ]
     },
     "metadata": {},
     "output_type": "display_data"
    }
   ],
   "source": [
    "plt.hist(permutation_tests[\"all_CCA_cc1\"], np.arange(0, 0.5, 0.01), alpha=0.5)\n",
    "plt.hist(permutation_tests[\" all_CCA_cc2\"], np.arange(0, 0.5, 0.01), alpha=0.5)"
   ]
  },
  {
   "cell_type": "code",
   "execution_count": 4,
   "id": "6273e03a",
   "metadata": {},
   "outputs": [
    {
     "data": {
      "text/plain": [
       "(array([ 0.,  0.,  0.,  0.,  0.,  0.,  0.,  0.,  0.,  0.,  0.,  2.,  5.,\n",
       "         1.,  2.,  5.,  5.,  3.,  4.,  2.,  4.,  6.,  8.,  9., 16., 19.,\n",
       "        22., 15., 23., 17., 11., 10., 33., 52., 76., 50., 29.,  6.,  3.,\n",
       "         0.,  0.,  0.,  0.,  0.,  0.,  0.,  0.,  0.,  0.]),\n",
       " array([0.  , 0.01, 0.02, 0.03, 0.04, 0.05, 0.06, 0.07, 0.08, 0.09, 0.1 ,\n",
       "        0.11, 0.12, 0.13, 0.14, 0.15, 0.16, 0.17, 0.18, 0.19, 0.2 , 0.21,\n",
       "        0.22, 0.23, 0.24, 0.25, 0.26, 0.27, 0.28, 0.29, 0.3 , 0.31, 0.32,\n",
       "        0.33, 0.34, 0.35, 0.36, 0.37, 0.38, 0.39, 0.4 , 0.41, 0.42, 0.43,\n",
       "        0.44, 0.45, 0.46, 0.47, 0.48, 0.49]),\n",
       " <BarContainer object of 49 artists>)"
      ]
     },
     "execution_count": 4,
     "metadata": {},
     "output_type": "execute_result"
    },
    {
     "data": {
      "image/png": "[encoded data removed]",
      "text/plain": [
       "<Figure size 640x480 with 1 Axes>"
      ]
     },
     "metadata": {},
     "output_type": "display_data"
    }
   ],
   "source": [
    "plt.hist(permutation_tests[\" all_rCCA_cc1\"], np.arange(0, 0.5, 0.01), alpha=0.5)\n",
    "plt.hist(permutation_tests[\" all_rCCA_cc2\"], np.arange(0, 0.5, 0.01), alpha=0.5)"
   ]
  },
  {
   "cell_type": "code",
   "execution_count": 5,
   "id": "d6e95489",
   "metadata": {},
   "outputs": [
    {
     "data": {
      "text/plain": [
       "(array([ 0.,  0.,  0.,  0.,  0.,  0.,  0.,  0.,  0.,  0.,  0.,  0.,  0.,\n",
       "         0.,  0.,  0.,  1.,  0.,  1.,  0.,  1.,  1.,  4.,  6.,  7.,  7.,\n",
       "         9., 10., 13., 20., 19., 22., 28., 24., 30., 28., 31., 30., 17.,\n",
       "        32., 25., 20., 15.,  7., 11.,  9.,  4.,  3.,  0.]),\n",
       " array([0.  , 0.01, 0.02, 0.03, 0.04, 0.05, 0.06, 0.07, 0.08, 0.09, 0.1 ,\n",
       "        0.11, 0.12, 0.13, 0.14, 0.15, 0.16, 0.17, 0.18, 0.19, 0.2 , 0.21,\n",
       "        0.22, 0.23, 0.24, 0.25, 0.26, 0.27, 0.28, 0.29, 0.3 , 0.31, 0.32,\n",
       "        0.33, 0.34, 0.35, 0.36, 0.37, 0.38, 0.39, 0.4 , 0.41, 0.42, 0.43,\n",
       "        0.44, 0.45, 0.46, 0.47, 0.48, 0.49]),\n",
       " <BarContainer object of 49 artists>)"
      ]
     },
     "execution_count": 5,
     "metadata": {},
     "output_type": "execute_result"
    },
    {
     "data": {
      "image/png": "[encoded data removed]",
      "text/plain": [
       "<Figure size 640x480 with 1 Axes>"
      ]
     },
     "metadata": {},
     "output_type": "display_data"
    }
   ],
   "source": [
    "plt.hist(permutation_tests[\" test_CCA_cc1\"], np.arange(0, 0.5, 0.01), alpha=0.5)\n",
    "plt.hist(permutation_tests[\" test_CCA_ccs\"], np.arange(0, 0.5, 0.01), alpha=0.5) # this is test_CCA_cc2"
   ]
  },
  {
   "cell_type": "code",
   "execution_count": 6,
   "id": "3075cd6a",
   "metadata": {},
   "outputs": [
    {
     "data": {
      "text/plain": [
       "(array([ 9.,  8., 14., 20., 19., 21., 18., 20., 29., 24., 27., 24., 19.,\n",
       "        25., 20., 21., 14., 15., 10.,  7., 11., 10.,  4.,  3.,  1.,  1.,\n",
       "         1.,  0.,  1.,  0.,  1.,  0.,  0.,  0.,  0.,  0.,  0.,  0.,  0.,\n",
       "         0.,  0.,  0.,  0.,  0.,  0.,  0.,  0.,  0.,  0.]),\n",
       " array([0.  , 0.01, 0.02, 0.03, 0.04, 0.05, 0.06, 0.07, 0.08, 0.09, 0.1 ,\n",
       "        0.11, 0.12, 0.13, 0.14, 0.15, 0.16, 0.17, 0.18, 0.19, 0.2 , 0.21,\n",
       "        0.22, 0.23, 0.24, 0.25, 0.26, 0.27, 0.28, 0.29, 0.3 , 0.31, 0.32,\n",
       "        0.33, 0.34, 0.35, 0.36, 0.37, 0.38, 0.39, 0.4 , 0.41, 0.42, 0.43,\n",
       "        0.44, 0.45, 0.46, 0.47, 0.48, 0.49]),\n",
       " <BarContainer object of 49 artists>)"
      ]
     },
     "execution_count": 6,
     "metadata": {},
     "output_type": "execute_result"
    },
    {
     "data": {
      "image/png": "[encoded data removed]",
      "text/plain": [
       "<Figure size 640x480 with 1 Axes>"
      ]
     },
     "metadata": {},
     "output_type": "display_data"
    }
   ],
   "source": [
    "plt.hist(permutation_tests[\" test_rCCA_cc1\"], np.arange(0, 0.5, 0.01), alpha=0.5)\n",
    "plt.hist(permutation_tests[\" test_rCCA_cc2\"], np.arange(0, 0.5, 0.01), alpha=0.5)"
   ]
  },
  {
   "cell_type": "code",
   "execution_count": 7,
   "id": "bac4a559",
   "metadata": {},
   "outputs": [
    {
     "data": {
      "text/plain": [
       "(array([  0.,   0.,   0.,   0.,   0.,   0.,   0.,   0.,   0.,   0.,   0.,\n",
       "          0.,   0.,   0.,   0.,   0.,   0.,   0.,   0.,   0.,   0.,   0.,\n",
       "          0.,   0.,   0.,   0.,   0.,   0.,   0.,   0.,   0.,   0.,   0.,\n",
       "          3.,   8.,  48., 110., 135.,  95.,  32.,   7.,   0.,   0.,   0.,\n",
       "          0.,   0.,   0.,   0.,   0.]),\n",
       " array([0.  , 0.01, 0.02, 0.03, 0.04, 0.05, 0.06, 0.07, 0.08, 0.09, 0.1 ,\n",
       "        0.11, 0.12, 0.13, 0.14, 0.15, 0.16, 0.17, 0.18, 0.19, 0.2 , 0.21,\n",
       "        0.22, 0.23, 0.24, 0.25, 0.26, 0.27, 0.28, 0.29, 0.3 , 0.31, 0.32,\n",
       "        0.33, 0.34, 0.35, 0.36, 0.37, 0.38, 0.39, 0.4 , 0.41, 0.42, 0.43,\n",
       "        0.44, 0.45, 0.46, 0.47, 0.48, 0.49]),\n",
       " <BarContainer object of 49 artists>)"
      ]
     },
     "execution_count": 7,
     "metadata": {},
     "output_type": "execute_result"
    },
    {
     "data": {
      "image/png": "[encoded data removed]",
      "text/plain": [
       "<Figure size 640x480 with 1 Axes>"
      ]
     },
     "metadata": {},
     "output_type": "display_data"
    }
   ],
   "source": [
    "plt.hist(permutation_tests[\" training_CCA_cc1\"], np.arange(0, 0.5, 0.01), alpha=0.5)\n",
    "plt.hist(permutation_tests[\" training_CCA_cc2\"], np.arange(0, 0.5, 0.01), alpha=0.5)"
   ]
  },
  {
   "cell_type": "code",
   "execution_count": 8,
   "id": "16c566a9",
   "metadata": {},
   "outputs": [
    {
     "data": {
      "text/plain": [
       "(array([ 0.,  0.,  0.,  0.,  0.,  0.,  0.,  0.,  0.,  0.,  0.,  2.,  8.,\n",
       "         8., 13., 16.,  6., 10., 12., 10., 21., 12., 10., 11., 22., 18.,\n",
       "        14., 19., 13., 18., 16., 15., 19., 21., 21., 33., 32., 21., 10.,\n",
       "         6.,  1.,  0.,  0.,  0.,  0.,  0.,  0.,  0.,  0.]),\n",
       " array([0.  , 0.01, 0.02, 0.03, 0.04, 0.05, 0.06, 0.07, 0.08, 0.09, 0.1 ,\n",
       "        0.11, 0.12, 0.13, 0.14, 0.15, 0.16, 0.17, 0.18, 0.19, 0.2 , 0.21,\n",
       "        0.22, 0.23, 0.24, 0.25, 0.26, 0.27, 0.28, 0.29, 0.3 , 0.31, 0.32,\n",
       "        0.33, 0.34, 0.35, 0.36, 0.37, 0.38, 0.39, 0.4 , 0.41, 0.42, 0.43,\n",
       "        0.44, 0.45, 0.46, 0.47, 0.48, 0.49]),\n",
       " <BarContainer object of 49 artists>)"
      ]
     },
     "execution_count": 8,
     "metadata": {},
     "output_type": "execute_result"
    },
    {
     "data": {
      "image/png": "[encoded data removed]",
      "text/plain": [
       "<Figure size 640x480 with 1 Axes>"
      ]
     },
     "metadata": {},
     "output_type": "display_data"
    }
   ],
   "source": [
    "plt.hist(permutation_tests[\" training_rCCA_cc1\"], np.arange(0, 0.5, 0.01), alpha=0.5)\n",
    "plt.hist(permutation_tests[\" training_rCCA_cc2\"], np.arange(0, 0.5, 0.01), alpha=0.5)"
   ]
  },
  {
   "cell_type": "code",
   "execution_count": null,
   "id": "2f4d7252",
   "metadata": {},
   "outputs": [],
   "source": []
  }
 ],
 "metadata": {
  "kernelspec": {
   "display_name": "Python 3 (ipykernel)",
   "language": "python",
   "name": "python3"
  },
  "language_info": {
   "codemirror_mode": {
    "name": "ipython",
    "version": 3
   },
   "file_extension": ".py",
   "mimetype": "text/x-python",
   "name": "python",
   "nbconvert_exporter": "python",
   "pygments_lexer": "ipython3",
   "version": "3.11.3"
  }
 },
 "nbformat": 4,
 "nbformat_minor": 5
}
