{
 "cells": [
  {
   "cell_type": "code",
   "execution_count": 1,
   "id": "9b02afcc",
   "metadata": {},
   "outputs": [],
   "source": [
    "import pandas as pd\n",
    "import numpy as np\n",
    "import matplotlib.pyplot as plt"
   ]
  },
  {
   "cell_type": "code",
   "execution_count": 2,
   "id": "926c16e7",
   "metadata": {},
   "outputs": [
    {
     "data": {
      "text/html": [
       "<div>\n",
       "<style scoped>\n",
       "    .dataframe tbody tr th:only-of-type {\n",
       "        vertical-align: middle;\n",
       "    }\n",
       "\n",
       "    .dataframe tbody tr th {\n",
       "        vertical-align: top;\n",
       "    }\n",
       "\n",
       "    .dataframe thead th {\n",
       "        text-align: right;\n",
       "    }\n",
       "</style>\n",
       "<table border=\"1\" class=\"dataframe\">\n",
       "  <thead>\n",
       "    <tr style=\"text-align: right;\">\n",
       "      <th></th>\n",
       "      <th>all_CCA_cc1</th>\n",
       "      <th>all_rCCA_cc1</th>\n",
       "      <th>training_CCA_cc1</th>\n",
       "      <th>training_rCCA_cc1</th>\n",
       "      <th>test_CCA_cc1</th>\n",
       "      <th>test_rCCA_cc1</th>\n",
       "      <th>all_CCA_cc2</th>\n",
       "      <th>all_rCCA_cc2</th>\n",
       "      <th>training_CCA_cc2</th>\n",
       "      <th>training_rCCA_cc2</th>\n",
       "      <th>test_CCA_ccs</th>\n",
       "      <th>test_rCCA_cc2</th>\n",
       "    </tr>\n",
       "  </thead>\n",
       "  <tbody>\n",
       "    <tr>\n",
       "      <th>0</th>\n",
       "      <td>0.36824</td>\n",
       "      <td>0.35556</td>\n",
       "      <td>0.38584</td>\n",
       "      <td>0.14332</td>\n",
       "      <td>0.42332</td>\n",
       "      <td>0.27830</td>\n",
       "      <td>0.35305</td>\n",
       "      <td>0.34385</td>\n",
       "      <td>0.37392</td>\n",
       "      <td>0.21806</td>\n",
       "      <td>0.30690</td>\n",
       "      <td>0.049243</td>\n",
       "    </tr>\n",
       "    <tr>\n",
       "      <th>1</th>\n",
       "      <td>0.36967</td>\n",
       "      <td>0.27091</td>\n",
       "      <td>0.35832</td>\n",
       "      <td>0.35832</td>\n",
       "      <td>0.46297</td>\n",
       "      <td>0.23178</td>\n",
       "      <td>0.35121</td>\n",
       "      <td>0.25152</td>\n",
       "      <td>0.35294</td>\n",
       "      <td>0.35294</td>\n",
       "      <td>0.41565</td>\n",
       "      <td>0.058827</td>\n",
       "    </tr>\n",
       "    <tr>\n",
       "      <th>2</th>\n",
       "      <td>0.38852</td>\n",
       "      <td>0.31441</td>\n",
       "      <td>0.41714</td>\n",
       "      <td>0.35033</td>\n",
       "      <td>0.46984</td>\n",
       "      <td>0.22202</td>\n",
       "      <td>0.34977</td>\n",
       "      <td>0.23757</td>\n",
       "      <td>0.36080</td>\n",
       "      <td>0.23770</td>\n",
       "      <td>0.32916</td>\n",
       "      <td>0.136270</td>\n",
       "    </tr>\n",
       "    <tr>\n",
       "      <th>3</th>\n",
       "      <td>0.36431</td>\n",
       "      <td>0.35006</td>\n",
       "      <td>0.40279</td>\n",
       "      <td>0.20083</td>\n",
       "      <td>0.34139</td>\n",
       "      <td>0.19827</td>\n",
       "      <td>0.34587</td>\n",
       "      <td>0.32942</td>\n",
       "      <td>0.36805</td>\n",
       "      <td>0.21060</td>\n",
       "      <td>0.32763</td>\n",
       "      <td>0.083743</td>\n",
       "    </tr>\n",
       "    <tr>\n",
       "      <th>4</th>\n",
       "      <td>0.38454</td>\n",
       "      <td>0.37188</td>\n",
       "      <td>0.38427</td>\n",
       "      <td>0.15875</td>\n",
       "      <td>0.45690</td>\n",
       "      <td>0.17845</td>\n",
       "      <td>0.35703</td>\n",
       "      <td>0.34062</td>\n",
       "      <td>0.36406</td>\n",
       "      <td>0.22255</td>\n",
       "      <td>0.34473</td>\n",
       "      <td>0.184810</td>\n",
       "    </tr>\n",
       "    <tr>\n",
       "      <th>...</th>\n",
       "      <td>...</td>\n",
       "      <td>...</td>\n",
       "      <td>...</td>\n",
       "      <td>...</td>\n",
       "      <td>...</td>\n",
       "      <td>...</td>\n",
       "      <td>...</td>\n",
       "      <td>...</td>\n",
       "      <td>...</td>\n",
       "      <td>...</td>\n",
       "      <td>...</td>\n",
       "      <td>...</td>\n",
       "    </tr>\n",
       "    <tr>\n",
       "      <th>456</th>\n",
       "      <td>0.39092</td>\n",
       "      <td>0.39092</td>\n",
       "      <td>0.39250</td>\n",
       "      <td>0.14875</td>\n",
       "      <td>0.35509</td>\n",
       "      <td>0.24696</td>\n",
       "      <td>0.36190</td>\n",
       "      <td>0.36190</td>\n",
       "      <td>0.37248</td>\n",
       "      <td>0.14587</td>\n",
       "      <td>0.37714</td>\n",
       "      <td>0.118120</td>\n",
       "    </tr>\n",
       "    <tr>\n",
       "      <th>457</th>\n",
       "      <td>0.38177</td>\n",
       "      <td>0.31767</td>\n",
       "      <td>0.39713</td>\n",
       "      <td>0.37475</td>\n",
       "      <td>0.31244</td>\n",
       "      <td>0.19487</td>\n",
       "      <td>0.36336</td>\n",
       "      <td>0.29753</td>\n",
       "      <td>0.38373</td>\n",
       "      <td>0.34414</td>\n",
       "      <td>0.28489</td>\n",
       "      <td>0.043084</td>\n",
       "    </tr>\n",
       "    <tr>\n",
       "      <th>458</th>\n",
       "      <td>0.36604</td>\n",
       "      <td>0.36531</td>\n",
       "      <td>0.41410</td>\n",
       "      <td>0.16178</td>\n",
       "      <td>0.34359</td>\n",
       "      <td>0.14542</td>\n",
       "      <td>0.35925</td>\n",
       "      <td>0.35818</td>\n",
       "      <td>0.39020</td>\n",
       "      <td>0.25278</td>\n",
       "      <td>0.23021</td>\n",
       "      <td>0.107060</td>\n",
       "    </tr>\n",
       "    <tr>\n",
       "      <th>459</th>\n",
       "      <td>0.42113</td>\n",
       "      <td>0.40649</td>\n",
       "      <td>0.45325</td>\n",
       "      <td>0.15038</td>\n",
       "      <td>0.31021</td>\n",
       "      <td>0.31438</td>\n",
       "      <td>0.37626</td>\n",
       "      <td>0.36073</td>\n",
       "      <td>0.40598</td>\n",
       "      <td>0.23264</td>\n",
       "      <td>0.40551</td>\n",
       "      <td>0.054789</td>\n",
       "    </tr>\n",
       "    <tr>\n",
       "      <th>460</th>\n",
       "      <td>0.38960</td>\n",
       "      <td>0.31882</td>\n",
       "      <td>0.40710</td>\n",
       "      <td>0.12939</td>\n",
       "      <td>0.48961</td>\n",
       "      <td>0.28036</td>\n",
       "      <td>0.37287</td>\n",
       "      <td>0.30098</td>\n",
       "      <td>0.38930</td>\n",
       "      <td>0.21258</td>\n",
       "      <td>0.40941</td>\n",
       "      <td>0.135130</td>\n",
       "    </tr>\n",
       "  </tbody>\n",
       "</table>\n",
       "<p>461 rows × 12 columns</p>\n",
       "</div>"
      ],
      "text/plain": [
       "     all_CCA_cc1   all_rCCA_cc1   training_CCA_cc1   training_rCCA_cc1  \\\n",
       "0        0.36824        0.35556            0.38584             0.14332   \n",
       "1        0.36967        0.27091            0.35832             0.35832   \n",
       "2        0.38852        0.31441            0.41714             0.35033   \n",
       "3        0.36431        0.35006            0.40279             0.20083   \n",
       "4        0.38454        0.37188            0.38427             0.15875   \n",
       "..           ...            ...                ...                 ...   \n",
       "456      0.39092        0.39092            0.39250             0.14875   \n",
       "457      0.38177        0.31767            0.39713             0.37475   \n",
       "458      0.36604        0.36531            0.41410             0.16178   \n",
       "459      0.42113        0.40649            0.45325             0.15038   \n",
       "460      0.38960        0.31882            0.40710             0.12939   \n",
       "\n",
       "      test_CCA_cc1   test_rCCA_cc1   all_CCA_cc2   all_rCCA_cc2  \\\n",
       "0          0.42332         0.27830       0.35305        0.34385   \n",
       "1          0.46297         0.23178       0.35121        0.25152   \n",
       "2          0.46984         0.22202       0.34977        0.23757   \n",
       "3          0.34139         0.19827       0.34587        0.32942   \n",
       "4          0.45690         0.17845       0.35703        0.34062   \n",
       "..             ...             ...           ...            ...   \n",
       "456        0.35509         0.24696       0.36190        0.36190   \n",
       "457        0.31244         0.19487       0.36336        0.29753   \n",
       "458        0.34359         0.14542       0.35925        0.35818   \n",
       "459        0.31021         0.31438       0.37626        0.36073   \n",
       "460        0.48961         0.28036       0.37287        0.30098   \n",
       "\n",
       "      training_CCA_cc2   training_rCCA_cc2   test_CCA_ccs   test_rCCA_cc2  \n",
       "0              0.37392             0.21806        0.30690        0.049243  \n",
       "1              0.35294             0.35294        0.41565        0.058827  \n",
       "2              0.36080             0.23770        0.32916        0.136270  \n",
       "3              0.36805             0.21060        0.32763        0.083743  \n",
       "4              0.36406             0.22255        0.34473        0.184810  \n",
       "..                 ...                 ...            ...             ...  \n",
       "456            0.37248             0.14587        0.37714        0.118120  \n",
       "457            0.38373             0.34414        0.28489        0.043084  \n",
       "458            0.39020             0.25278        0.23021        0.107060  \n",
       "459            0.40598             0.23264        0.40551        0.054789  \n",
       "460            0.38930             0.21258        0.40941        0.135130  \n",
       "\n",
       "[461 rows x 12 columns]"
      ]
     },
     "execution_count": 2,
     "metadata": {},
     "output_type": "execute_result"
    }
   ],
   "source": [
    "permutation_tests_path = \"/Users/fyzeen/FyzeenLocal/GitHub/DrysdaleReplication/code/03_FeatureSelection/02_rCCA/permutation_tests.csv\"\n",
    "permutation_tests = pd.read_csv(permutation_tests_path)\n",
    "permutation_tests"
   ]
  },
  {
   "cell_type": "code",
   "execution_count": 10,
   "id": "f73cbf1f",
   "metadata": {},
   "outputs": [
    {
     "data": {
      "image/png": "[encoded data removed]",
      "text/plain": [
       "<Figure size 640x480 with 1 Axes>"
      ]
     },
     "metadata": {},
     "output_type": "display_data"
    }
   ],
   "source": [
    "plt.hist(permutation_tests[\"all_CCA_cc1\"], np.arange(0, 0.5, 0.01), alpha=0.5)\n",
    "#plt.axvline(0.3464, color=\"blue\")\n",
    "#plt.hist(permutation_tests[\" all_CCA_cc2\"], np.arange(0, 0.5, 0.01), alpha=0.5)\n",
    "plt.axvline(0.3357, color=\"red\")\n",
    "plt.show()"
   ]
  },
  {
   "cell_type": "code",
   "execution_count": 4,
   "id": "6273e03a",
   "metadata": {},
   "outputs": [
    {
     "data": {
      "image/png": "[encoded data removed]",
      "text/plain": [
       "<Figure size 640x480 with 1 Axes>"
      ]
     },
     "metadata": {},
     "output_type": "display_data"
    }
   ],
   "source": [
    "plt.hist(permutation_tests[\" all_rCCA_cc1\"], np.arange(0, 0.5, 0.01), alpha=0.5)\n",
    "plt.axvline(0.1560, color=\"blue\")\n",
    "\n",
    "#plt.hist(permutation_tests[\" all_rCCA_cc2\"], np.arange(0, 0.5, 0.01), alpha=0.5)\n",
    "#plt.axvline(0.2166, color=\"red\")\n",
    "\n",
    "plt.show()"
   ]
  },
  {
   "cell_type": "code",
   "execution_count": 5,
   "id": "d6e95489",
   "metadata": {},
   "outputs": [
    {
     "data": {
      "image/png": "[encoded data removed]",
      "text/plain": [
       "<Figure size 640x480 with 1 Axes>"
      ]
     },
     "metadata": {},
     "output_type": "display_data"
    }
   ],
   "source": [
    "plt.hist(permutation_tests[\" test_CCA_cc1\"], np.arange(0, 0.5, 0.01), alpha=0.5)\n",
    "plt.hist(permutation_tests[\" test_CCA_ccs\"], np.arange(0, 0.5, 0.01), alpha=0.5) # this is test_CCA_cc2\n",
    "plt.show()"
   ]
  },
  {
   "cell_type": "code",
   "execution_count": 6,
   "id": "3075cd6a",
   "metadata": {},
   "outputs": [
    {
     "data": {
      "image/png": "[encoded data removed]",
      "text/plain": [
       "<Figure size 640x480 with 1 Axes>"
      ]
     },
     "metadata": {},
     "output_type": "display_data"
    }
   ],
   "source": [
    "plt.hist(permutation_tests[\" test_rCCA_cc1\"], np.arange(0, 0.5, 0.01), alpha=0.5)\n",
    "plt.hist(permutation_tests[\" test_rCCA_cc2\"], np.arange(0, 0.5, 0.01), alpha=0.5)\n",
    "plt.show()"
   ]
  },
  {
   "cell_type": "code",
   "execution_count": 7,
   "id": "bac4a559",
   "metadata": {},
   "outputs": [
    {
     "data": {
      "image/png": "[encoded data removed]",
      "text/plain": [
       "<Figure size 640x480 with 1 Axes>"
      ]
     },
     "metadata": {},
     "output_type": "display_data"
    }
   ],
   "source": [
    "plt.hist(permutation_tests[\" training_CCA_cc1\"], np.arange(0, 0.5, 0.01), alpha=0.5)\n",
    "plt.hist(permutation_tests[\" training_CCA_cc2\"], np.arange(0, 0.5, 0.01), alpha=0.5)\n",
    "plt.show()"
   ]
  },
  {
   "cell_type": "code",
   "execution_count": 8,
   "id": "16c566a9",
   "metadata": {},
   "outputs": [
    {
     "data": {
      "image/png": "[encoded data removed]",
      "text/plain": [
       "<Figure size 640x480 with 1 Axes>"
      ]
     },
     "metadata": {},
     "output_type": "display_data"
    }
   ],
   "source": [
    "plt.hist(permutation_tests[\" training_rCCA_cc1\"], np.arange(0, 0.5, 0.01), alpha=0.5)\n",
    "plt.hist(permutation_tests[\" training_rCCA_cc2\"], np.arange(0, 0.5, 0.01), alpha=0.5)\n",
    "plt.show()"
   ]
  },
  {
   "cell_type": "code",
   "execution_count": null,
   "id": "2f4d7252",
   "metadata": {},
   "outputs": [],
   "source": []
  }
 ],
 "metadata": {
  "kernelspec": {
   "display_name": "Python 3 (ipykernel)",
   "language": "python",
   "name": "python3"
  },
  "language_info": {
   "codemirror_mode": {
    "name": "ipython",
    "version": 3
   },
   "file_extension": ".py",
   "mimetype": "text/x-python",
   "name": "python",
   "nbconvert_exporter": "python",
   "pygments_lexer": "ipython3",
   "version": "3.11.3"
  }
 },
 "nbformat": 4,
 "nbformat_minor": 5
}
