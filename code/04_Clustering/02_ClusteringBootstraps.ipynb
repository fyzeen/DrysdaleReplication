{
 "cells": [
  {
   "cell_type": "code",
   "execution_count": 1,
   "id": "a56fb0ae",
   "metadata": {},
   "outputs": [],
   "source": [
    "import numpy as np\n",
    "import matplotlib.pyplot as plt\n",
    "import os\n",
    "import pandas as pd\n",
    "from scipy.cluster.hierarchy import dendrogram, linkage, fcluster\n",
    "from sklearn.metrics import silhouette_score, calinski_harabasz_score, adjusted_rand_score"
   ]
  },
  {
   "cell_type": "code",
   "execution_count": 2,
   "id": "310e9692",
   "metadata": {},
   "outputs": [],
   "source": [
    "# CCA_top150 connectivity features\n",
    "CCA_U_path = \"/Users/fyzeen/FyzeenLocal/GitHub/DrysdaleReplication/code/03_FeatureSelection/02_rCCA/Results/CCA_top150/CCA_U.csv\"\n",
    "CCA_U = pd.read_csv(CCA_U_path, index_col=\"Row\")\n",
    "\n",
    "# rCCA_top150 connectivity features\n",
    "rCCA_U_path = \"/Users/fyzeen/FyzeenLocal/GitHub/DrysdaleReplication/code/03_FeatureSelection/02_rCCA/Results/rCCA_top150/rCCA_U.csv\"\n",
    "rCCA_U = pd.read_csv(rCCA_U_path, index_col=\"Row\")"
   ]
  },
  {
   "cell_type": "code",
   "execution_count": 3,
   "id": "e2c903f6",
   "metadata": {},
   "outputs": [],
   "source": [
    "def hierarchical_cluster(data, num_clusters):\n",
    "    # Perform hierarchical clustering with the optimal number of clusters\n",
    "    linkage_matrix = linkage(data, method='ward')\n",
    "    labels = fcluster(linkage_matrix, t=num_clusters, criterion='maxclust')\n",
    "    return labels, linkage_matrix\n",
    "\n",
    "def plot_labeled_scatter(axis1, axis2, labels):\n",
    "    plt.scatter(axis1, axis2, c=labels, cmap='viridis')\n",
    "    plt.xlabel('CV1')\n",
    "    plt.ylabel('CV2')\n",
    "    plt.title('Hierarchical Clustering')\n",
    "    plt.show()"
   ]
  },
  {
   "cell_type": "code",
   "execution_count": 4,
   "id": "12074d9a",
   "metadata": {},
   "outputs": [],
   "source": [
    "CCA_labels, CCA_linkage_matrix = hierarchical_cluster(CCA_U[[\"U1\", \"U2\"]].to_numpy(), 3)\n",
    "rCCA_labels, rCCA_linkage_matrix = hierarchical_cluster(rCCA_U[[\"Var1\",\"Var2\"]].to_numpy(), 4) # ALSO HAS A 2 CLUSTER SOLN\n",
    "\n",
    "CCA_labels_df = pd.DataFrame(CCA_labels).set_index(CCA_U.index)\n",
    "rCCA_labels_df = pd.DataFrame(rCCA_labels).set_index(rCCA_U.index)\n"
   ]
  },
  {
   "cell_type": "code",
   "execution_count": 5,
   "id": "81a19ded",
   "metadata": {},
   "outputs": [],
   "source": [
    "CCA_Cluster_ARIs = []\n",
    "rCCA_Cluster_ARIs = []\n",
    "\n",
    "bootstraps_dir = \"/Users/fyzeen/FyzeenLocal/GitHub/DrysdaleReplication/data/local/clusteringBootstraps\"\n",
    "bootstrap_files = os.listdir(bootstraps_dir)\n",
    "\n",
    "for bootstrap_file in bootstrap_files:\n",
    "    bootstrap = pd.read_csv(os.path.join(bootstraps_dir, bootstrap_file), index_col=\"Row\")\n",
    "    \n",
    "    # Getting the labels for the subjects that were included in this bootstrap\n",
    "    subset_CCA_labels = CCA_labels_df.loc[bootstrap.index].to_numpy().T[0]\n",
    "    subset_rCCA_labels = rCCA_labels_df.loc[bootstrap.index].to_numpy().T[0]\n",
    "    \n",
    "    bootstrap_CCA_labels, boootstrap_CCA_linkage_matrix = hierarchical_cluster(bootstrap[[\"CCA_U1\",\"CCA_U2\"]].to_numpy(), 3)\n",
    "    \n",
    "    bootstrap_rCCA_labels, boootstrap_rCCA_linkage_matrix = hierarchical_cluster(bootstrap[[\"rCCA_U1\",\"rCCA_U2\"]].to_numpy(), 4)\n",
    "    \n",
    "    CCA_Cluster_ARIs.append(adjusted_rand_score(subset_CCA_labels, bootstrap_CCA_labels))\n",
    "    rCCA_Cluster_ARIs.append(adjusted_rand_score(subset_rCCA_labels, bootstrap_rCCA_labels))"
   ]
  },
  {
   "cell_type": "code",
   "execution_count": 9,
   "id": "706da15d",
   "metadata": {},
   "outputs": [
    {
     "data": {
      "text/plain": [
       "(array([ 11.,  24.,  48.,  72.,  70., 118., 117., 130.,  87.,  77.,  46.,\n",
       "         32.,  26.,  10.,   7.,   4.,   5.,   2.,   0.,   0.,   0.,   0.,\n",
       "          0.,   0.,   0.,   0.,   0.,   0.,   0.,   0.,   0.,   0.,   0.,\n",
       "          0.,   0.,   0.,   0.,   0.,   0.,   0.,   0.,   0.,   0.,   0.,\n",
       "          0.,   0.,   0.,   0.,   0.,   0.,   0.,   0.,   0.,   0.,   0.,\n",
       "          0.,   0.,   0.,   0.,   0.,   0.,   0.,   0.,   0.,   0.,   0.,\n",
       "          0.,   0.,   0.]),\n",
       " array([0.  , 0.01, 0.02, 0.03, 0.04, 0.05, 0.06, 0.07, 0.08, 0.09, 0.1 ,\n",
       "        0.11, 0.12, 0.13, 0.14, 0.15, 0.16, 0.17, 0.18, 0.19, 0.2 , 0.21,\n",
       "        0.22, 0.23, 0.24, 0.25, 0.26, 0.27, 0.28, 0.29, 0.3 , 0.31, 0.32,\n",
       "        0.33, 0.34, 0.35, 0.36, 0.37, 0.38, 0.39, 0.4 , 0.41, 0.42, 0.43,\n",
       "        0.44, 0.45, 0.46, 0.47, 0.48, 0.49, 0.5 , 0.51, 0.52, 0.53, 0.54,\n",
       "        0.55, 0.56, 0.57, 0.58, 0.59, 0.6 , 0.61, 0.62, 0.63, 0.64, 0.65,\n",
       "        0.66, 0.67, 0.68, 0.69]),\n",
       " <BarContainer object of 69 artists>)"
      ]
     },
     "execution_count": 9,
     "metadata": {},
     "output_type": "execute_result"
    },
    {
     "data": {
      "image/png": "[encoded data removed]",
      "text/plain": [
       "<Figure size 640x480 with 1 Axes>"
      ]
     },
     "metadata": {},
     "output_type": "display_data"
    }
   ],
   "source": [
    "plt.hist(np.array(CCA_Cluster_ARIs), np.arange(0,0.7, 0.01))"
   ]
  },
  {
   "cell_type": "code",
   "execution_count": 8,
   "id": "2de980b0",
   "metadata": {},
   "outputs": [
    {
     "data": {
      "text/plain": [
       "(array([196., 163.,  55.,  19.,   6.,   2.,   0.,   2.,   0.,   1.,   0.,\n",
       "          0.,   2.,   4.,   6.,   2.,   6.,   2.,  14.,  16.,  14.,  16.,\n",
       "         20.,  17.,   7.,   6.,   7.,   4.,   5.,  13.,  19.,  14.,  17.,\n",
       "         13.,   5.,  15.,   3.,   7.,   8.,  12.,  10.,   6.,   9.,   8.,\n",
       "          4.,   6.,   5.,   5.,  11.,  11.,   6.,   8.,   7.,  10.,   7.,\n",
       "          6.,   4.,   3.,   3.,   7.,   3.,   9.,   2.,   2.,   4.,   3.,\n",
       "          1.,   1.,   0.]),\n",
       " array([0.  , 0.01, 0.02, 0.03, 0.04, 0.05, 0.06, 0.07, 0.08, 0.09, 0.1 ,\n",
       "        0.11, 0.12, 0.13, 0.14, 0.15, 0.16, 0.17, 0.18, 0.19, 0.2 , 0.21,\n",
       "        0.22, 0.23, 0.24, 0.25, 0.26, 0.27, 0.28, 0.29, 0.3 , 0.31, 0.32,\n",
       "        0.33, 0.34, 0.35, 0.36, 0.37, 0.38, 0.39, 0.4 , 0.41, 0.42, 0.43,\n",
       "        0.44, 0.45, 0.46, 0.47, 0.48, 0.49, 0.5 , 0.51, 0.52, 0.53, 0.54,\n",
       "        0.55, 0.56, 0.57, 0.58, 0.59, 0.6 , 0.61, 0.62, 0.63, 0.64, 0.65,\n",
       "        0.66, 0.67, 0.68, 0.69]),\n",
       " <BarContainer object of 69 artists>)"
      ]
     },
     "execution_count": 8,
     "metadata": {},
     "output_type": "execute_result"
    },
    {
     "data": {
      "image/png": "[encoded data removed]",
      "text/plain": [
       "<Figure size 640x480 with 1 Axes>"
      ]
     },
     "metadata": {},
     "output_type": "display_data"
    }
   ],
   "source": [
    "plt.hist(np.array(rCCA_Cluster_ARIs), np.arange(0,0.7, 0.01))"
   ]
  },
  {
   "cell_type": "code",
   "execution_count": null,
   "id": "169a7661",
   "metadata": {},
   "outputs": [],
   "source": []
  }
 ],
 "metadata": {
  "kernelspec": {
   "display_name": "Python 3 (ipykernel)",
   "language": "python",
   "name": "python3"
  },
  "language_info": {
   "codemirror_mode": {
    "name": "ipython",
    "version": 3
   },
   "file_extension": ".py",
   "mimetype": "text/x-python",
   "name": "python",
   "nbconvert_exporter": "python",
   "pygments_lexer": "ipython3",
   "version": "3.11.3"
  }
 },
 "nbformat": 4,
 "nbformat_minor": 5
}
